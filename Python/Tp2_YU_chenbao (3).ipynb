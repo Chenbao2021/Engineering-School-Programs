{
  "nbformat": 4,
  "nbformat_minor": 0,
  "metadata": {
    "colab": {
      "name": "Tp2_YU_chenbao.ipynb",
      "provenance": [],
      "collapsed_sections": []
    },
    "kernelspec": {
      "name": "python3",
      "display_name": "Python 3"
    },
    "language_info": {
      "name": "python"
    }
  },
  "cells": [
    {
      "cell_type": "code",
      "metadata": {
        "colab": {
          "base_uri": "https://localhost:8080/"
        },
        "id": "OC-yXF_Otw2R",
        "outputId": "451105d1-fe3a-4f96-efc8-8ff394d76987"
      },
      "source": [
        "import string\n",
        "import random\n",
        "minus_alphabet = list(string.ascii_lowercase)\n",
        "shuffle_minus=list(string.ascii_lowercase)\n",
        "random.shuffle(shuffle_minus)\n",
        "shuffle_minus2=list(string.ascii_lowercase)\n",
        "random.shuffle(shuffle_minus2)\n",
        "majus_alphabet = list(string.ascii_uppercase)\n",
        "shuffle_majus=list(string.ascii_uppercase)\n",
        "random.shuffle(shuffle_majus)\n",
        "print(shuffle_minus)\n",
        "conversion=zip(minus_alphabet,shuffle_minus)\n",
        "print(list(conversion))\n",
        "\n",
        "print(shuffle_minus)\n",
        "print(shuffle_minus2)\n"
      ],
      "execution_count": null,
      "outputs": [
        {
          "output_type": "stream",
          "name": "stdout",
          "text": [
            "['p', 'v', 'z', 'u', 't', 's', 'h', 'c', 'm', 'n', 'b', 'a', 'q', 'y', 'l', 'e', 'g', 'o', 'w', 'x', 'k', 'j', 'i', 'r', 'd', 'f']\n",
            "[('a', 'p'), ('b', 'v'), ('c', 'z'), ('d', 'u'), ('e', 't'), ('f', 's'), ('g', 'h'), ('h', 'c'), ('i', 'm'), ('j', 'n'), ('k', 'b'), ('l', 'a'), ('m', 'q'), ('n', 'y'), ('o', 'l'), ('p', 'e'), ('q', 'g'), ('r', 'o'), ('s', 'w'), ('t', 'x'), ('u', 'k'), ('v', 'j'), ('w', 'i'), ('x', 'r'), ('y', 'd'), ('z', 'f')]\n",
            "['p', 'v', 'z', 'u', 't', 's', 'h', 'c', 'm', 'n', 'b', 'a', 'q', 'y', 'l', 'e', 'g', 'o', 'w', 'x', 'k', 'j', 'i', 'r', 'd', 'f']\n",
            "['s', 'e', 'd', 'n', 'b', 'k', 'x', 'u', 'j', 'z', 'f', 'c', 'i', 'a', 't', 'w', 'h', 'g', 'r', 'q', 'y', 'm', 'v', 'o', 'p', 'l']\n"
          ]
        }
      ]
    },
    {
      "cell_type": "code",
      "metadata": {
        "id": "HK2y1mclKBi3"
      },
      "source": [
        "from google.colab import files\n",
        "import csv\n",
        "!rm mdp.txt\n",
        "!rm output.txt\n",
        "uploaded=files.upload()\n",
        "uploaded=files.upload()"
      ],
      "execution_count": null,
      "outputs": []
    },
    {
      "cell_type": "code",
      "metadata": {
        "id": "AXUAHYaQweCR"
      },
      "source": [
        "\n",
        "class Encodeur:\n",
        "  def __init__(self,pwd=None):\n",
        "    if pwd is None:\n",
        "      self.password=list(string.ascii_lowercase)\n",
        "      random.shuffle(self.password)\n",
        "      print(self.password)\n",
        "    else:\n",
        "      self.password=list(pwd)\n",
        "\n",
        "  def encode_string(self,input_string):\n",
        "    ls=\"\".join([self.password[ord(n)-ord('a')] if n.islower() else self.password[ord(n)-ord('A')] if n.isupper() else n for n in input_string])\n",
        "    print(ls)\n",
        "    return ls\n",
        "  def encode_file(self,input_file,output_file):\n",
        "    try:\n",
        "      text_file=open(input_file,'r')\n",
        "      output=open(output_file,'w')\n",
        "      f=list(csv.reader(text_file))\n",
        "      g=csv.writer(output)\n",
        "      contem=\"\"\n",
        "      for i in f:\n",
        "        contem=contem.join(i)\n",
        "      output.write(self.encode_string(contem))\n",
        "      return contem\n",
        "      \n",
        "    except IOError:\n",
        "      print(\"cannot open file \"+input_file)\n",
        "      return 0\n",
        "  pass"
      ],
      "execution_count": null,
      "outputs": []
    },
    {
      "cell_type": "code",
      "metadata": {
        "colab": {
          "base_uri": "https://localhost:8080/",
          "height": 86
        },
        "id": "bqZloVSyw4TE",
        "outputId": "c1ec8b6e-2386-4f85-dc6d-c4090b1b19a3"
      },
      "source": [
        "enc=Encodeur()\n",
        "\n",
        "print(shuffle_minus)\n",
        "enc.encode_string(shuffle_minus)\n",
        "\n",
        "#enc.encode_file(\"mdp.txt\",\"output.txt\")\n",
        "#files.download('output.txt')"
      ],
      "execution_count": null,
      "outputs": [
        {
          "output_type": "stream",
          "name": "stdout",
          "text": [
            "['b', 's', 'i', 'u', 'c', 'q', 'v', 'r', 'n', 'a', 'l', 'j', 't', 'x', 'e', 'w', 'p', 'o', 'd', 'h', 'f', 'k', 'm', 'z', 'y', 'g']\n",
            "['n', 'g', 's', 'y', 'z', 'b', 'p', 'l', 'x', 'a', 'q', 'w', 'm', 'e', 'o', 'f', 'c', 'k', 'u', 't', 'j', 'i', 'v', 'h', 'd', 'r']\n",
            "xvdygswjzbpmtceqilfhankruo\n"
          ]
        },
        {
          "output_type": "execute_result",
          "data": {
            "application/vnd.google.colaboratory.intrinsic+json": {
              "type": "string"
            },
            "text/plain": [
              "'xvdygswjzbpmtceqilfhankruo'"
            ]
          },
          "metadata": {},
          "execution_count": 208
        }
      ]
    },
    {
      "cell_type": "code",
      "metadata": {
        "id": "Y2X0pDd3Mz_k"
      },
      "source": [
        "class Decodeur:\n",
        "  def __init__(self,pwd=shuffle_minus2):\n",
        "    print(pwd)\n",
        "    print(shuffle_minus)\n",
        "    self.password=\"\".join([pwd[ord(n)-ord('a')] if n.islower() else pwd[ord(n)-ord('A')] if n.isupper() else n for n in shuffle_minus])\n",
        "    print(self.password)\n",
        "    self.l=zip(pwd,shuffle_minus)\n",
        "    self.m=zip(self.password,shuffle_minus)\n",
        "    self.enc=Encodeur(self.password)\n",
        "\n",
        "  def decode_string(self):\n",
        "    l1,l2=zip(*self.l)\n",
        "    l3,l4=zip(*self.m)\n",
        "    p=zip(l1,l3)\n",
        "    code=[i for (i,j) in p]\n",
        "    print(list(code))\n",
        "\n",
        "\n",
        "\n"
      ],
      "execution_count": null,
      "outputs": []
    },
    {
      "cell_type": "code",
      "metadata": {
        "colab": {
          "base_uri": "https://localhost:8080/"
        },
        "id": "NLtbz7tpb82D",
        "outputId": "341800fd-0417-4ec7-b79f-7c87b670a93b"
      },
      "source": [
        "test=Decodeur()\n",
        "test.decode_string()"
      ],
      "execution_count": null,
      "outputs": [
        {
          "output_type": "stream",
          "name": "stdout",
          "text": [
            "['s', 'e', 'd', 'n', 'b', 'k', 'x', 'u', 'j', 'z', 'f', 'c', 'i', 'a', 't', 'w', 'h', 'g', 'r', 'q', 'y', 'm', 'v', 'o', 'p', 'l']\n",
            "['p', 'v', 'z', 'u', 't', 's', 'h', 'c', 'm', 'n', 'b', 'a', 'q', 'y', 'l', 'e', 'g', 'o', 'w', 'x', 'k', 'j', 'i', 'r', 'd', 'f']\n",
            "wmlyqrudiaeshpcbxtvofzjgnk\n",
            "['s', 'e', 'd', 'n', 'b', 'k', 'x', 'u', 'j', 'z', 'f', 'c', 'i', 'a', 't', 'w', 'h', 'g', 'r', 'q', 'y', 'm', 'v', 'o', 'p', 'l']\n"
          ]
        }
      ]
    }
  ]
}